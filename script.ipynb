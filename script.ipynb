import os
from openai import OpenAI
import openai

# Set the OpenAI API key using an environment variable for security
openai_api_key = os.environ["OPENAI_API_KEY"]
# Initialize OpenAI client
client = OpenAI(api_key=openai_api_key)    


audio_file_path = "data/sample.wav"

with open(audio_file_path, "rb") as audio_file:
    transcription_text = client.audio.transcriptions.create(
    model="whisper-1", 
    file=audio_file,
    response_format = "text"
)


transcription_text

target_language = "Spanish"

input_language = "English"
output_language = target_language

translation = client.chat.completions.create(
  model="gpt-4o-mini",
  messages=[
    {"role": "system", "content": f"You will be provided with a user input in {input_language}.\nTranslate the text into {output_language}.\nOnly output the translated text, without any additional text."},
    {"role": "user", "content": f"{transcription_text}"}
  ]
)  

translated_text = translation.choices[0].message.content
translated_text

grammar_check = client.chat.completions.create(
    model = "gpt-4o-mini",
    messages = [
        {"role": "system", "content": f"You will be provided with a body of text. Your job is to identify and provide corrections to grammatical errors."},
        {"role": "user", "content": translated_text}
    ]
)

grammar_feedback = grammar_check.choices[0].message.content
grammar_feedback
