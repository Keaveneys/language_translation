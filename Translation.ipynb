{
  "nbformat": 4,
  "nbformat_minor": 0,
  "metadata": {
    "colab": {
      "provenance": []
    },
    "kernelspec": {
      "name": "python3",
      "display_name": "Python 3"
    },
    "language_info": {
      "name": "python"
    }
  },
  "cells": [
    {
      "cell_type": "code",
      "execution_count": null,
      "metadata": {
        "id": "2zfLpqxrXCLO"
      },
      "outputs": [],
      "source": [
        "import os\n",
        "from openai import OpenAI\n",
        "import openai\n",
        "\n",
        "# Set the OpenAI API key using an environment variable for security\n",
        "openai_api_key = os.environ[\"OPENAI_API_KEY\"]\n",
        "# Initialize OpenAI client\n",
        "client = OpenAI(api_key=openai_api_key)"
      ]
    },
    {
      "cell_type": "code",
      "source": [
        "audio_file_path = \"data/sample.wav\"\n",
        "\n",
        "with open(audio_file_path, \"rb\") as audio_file:\n",
        "    transcription_text = client.audio.transcriptions.create(\n",
        "    model=\"whisper-1\",\n",
        "    file=audio_file,\n",
        "    response_format = \"text\"\n",
        ")\n",
        "\n",
        "transcription_text"
      ],
      "metadata": {
        "id": "j3LQNNTSXGfQ"
      },
      "execution_count": null,
      "outputs": []
    },
    {
      "cell_type": "code",
      "source": [
        "target_language = \"Spanish\""
      ],
      "metadata": {
        "id": "hRfF_uGJXK_f"
      },
      "execution_count": null,
      "outputs": []
    },
    {
      "cell_type": "code",
      "source": [
        "input_language = \"English\"\n",
        "output_language = target_language\n",
        "\n",
        "translation = client.chat.completions.create(\n",
        "  model=\"gpt-4o-mini\",\n",
        "  messages=[\n",
        "    {\"role\": \"system\", \"content\": f\"You will be provided with a user input in {input_language}.\\nTranslate the text into {output_language}.\\nOnly output the translated text, without any additional text.\"},\n",
        "    {\"role\": \"user\", \"content\": f\"{transcription_text}\"}\n",
        "  ]\n",
        ")\n",
        "\n",
        "translated_text = translation.choices[0].message.content\n",
        "translated_text"
      ],
      "metadata": {
        "id": "5hwWDGaHXNYn"
      },
      "execution_count": null,
      "outputs": []
    },
    {
      "cell_type": "code",
      "source": [
        "grammar_check = client.chat.completions.create(\n",
        "    model = \"gpt-4o-mini\",\n",
        "    messages = [\n",
        "        {\"role\": \"system\", \"content\": f\"You will be provided with a body of text. Your job is to identify and provide corrections to grammatical errors.\"},\n",
        "        {\"role\": \"user\", \"content\": translated_text}\n",
        "    ]\n",
        ")\n",
        "\n",
        "grammar_feedback = grammar_check.choices[0].message.content\n",
        "grammar_feedback"
      ],
      "metadata": {
        "id": "AFvLdL-3XQ9Q"
      },
      "execution_count": null,
      "outputs": []
    }
  ]
}